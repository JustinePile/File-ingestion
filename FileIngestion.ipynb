{
 "cells": [
  {
   "cell_type": "code",
   "execution_count": 4,
   "metadata": {},
   "outputs": [],
   "source": [
    "# Imports\n",
    "import pandas as pd\n",
    "import ray\n",
    "import warnings\n",
    "warnings.filterwarnings('ignore')\n",
    "\n",
    "# Path to file\n",
    "csv_file_path = '..\\gm_games_2022.csv'"
   ]
  },
  {
   "cell_type": "code",
   "execution_count": 6,
   "metadata": {},
   "outputs": [
    {
     "name": "stdout",
     "output_type": "stream",
     "text": [
      "   Unnamed: 0                                      game_id  \\\n",
      "0           0  https://www.chess.com/game/live/34762832595   \n",
      "1           1  https://www.chess.com/game/live/34842040547   \n",
      "2           2  https://www.chess.com/game/live/34845639495   \n",
      "3           3  https://www.chess.com/game/live/34849246827   \n",
      "4           4  https://www.chess.com/game/live/52834844739   \n",
      "\n",
      "                                      game_url  \\\n",
      "0  https://www.chess.com/game/live/34762832595   \n",
      "1  https://www.chess.com/game/live/34842040547   \n",
      "2  https://www.chess.com/game/live/34845639495   \n",
      "3  https://www.chess.com/game/live/34849246827   \n",
      "4  https://www.chess.com/game/live/52834844739   \n",
      "\n",
      "                                                 pgn time_control  \\\n",
      "0  [Event \"Live Chess\"]\\n[Site \"Chess.com\"]\\n[Dat...        900+5   \n",
      "1  [Event \"Live Chess\"]\\n[Site \"Chess.com\"]\\n[Dat...        900+5   \n",
      "2  [Event \"Live Chess\"]\\n[Site \"Chess.com\"]\\n[Dat...        900+5   \n",
      "3  [Event \"Live Chess\"]\\n[Site \"Chess.com\"]\\n[Dat...        900+5   \n",
      "4  [Event \"Live Chess\"]\\n[Site \"Chess.com\"]\\n[Dat...          600   \n",
      "\n",
      "              end_time  rated time_class  rules gm_username white_username  \\\n",
      "0  2022-01-01 08:39:26   True      rapid  chess       123lt          123lt   \n",
      "1  2022-01-02 06:39:16   True      rapid  chess       123lt     jinbojinbo   \n",
      "2  2022-01-02 07:37:33   True      rapid  chess       123lt          Juwen   \n",
      "3  2022-01-02 08:30:47   True      rapid  chess       123lt          123lt   \n",
      "4  2022-07-29 12:19:07   True      rapid  chess       123lt        stevis5   \n",
      "\n",
      "   white_rating white_result black_username  black_rating black_result  \n",
      "0          2506       agreed          Juwen          2515       agreed  \n",
      "1          2358   repetition          123lt          2498   repetition  \n",
      "2          2536          win          123lt          2480     resigned  \n",
      "3          2505          win        daika91          2586     resigned  \n",
      "4          2155   checkmated          123lt          2514          win  \n"
     ]
    }
   ],
   "source": [
    "# Read the CSV file into a DataFrame\n",
    "df = pd.read_csv(csv_file_path)\n",
    "\n",
    "# Display the first few rows of the DataFrame\n",
    "print(df.head())"
   ]
  },
  {
   "cell_type": "code",
   "execution_count": 5,
   "metadata": {},
   "outputs": [
    {
     "name": "stderr",
     "output_type": "stream",
     "text": [
      "2023-08-10 18:10:39,006\tINFO worker.py:1453 -- Calling ray.init() again after it has already been called.\n",
      "\u001b[2m\u001b[36m(read_csv_with_pandas pid=21236)\u001b[0m C:\\Users\\justine\\AppData\\Local\\Temp\\ipykernel_23604\\2782468335.py:7: DtypeWarning: Columns (4) have mixed types. Specify dtype option on import or set low_memory=False.\n"
     ]
    },
    {
     "name": "stdout",
     "output_type": "stream",
     "text": [
      "   Unnamed: 0                                      game_id  \\\n",
      "0           0  https://www.chess.com/game/live/34762832595   \n",
      "1           1  https://www.chess.com/game/live/34842040547   \n",
      "2           2  https://www.chess.com/game/live/34845639495   \n",
      "3           3  https://www.chess.com/game/live/34849246827   \n",
      "4           4  https://www.chess.com/game/live/52834844739   \n",
      "\n",
      "                                      game_url  \\\n",
      "0  https://www.chess.com/game/live/34762832595   \n",
      "1  https://www.chess.com/game/live/34842040547   \n",
      "2  https://www.chess.com/game/live/34845639495   \n",
      "3  https://www.chess.com/game/live/34849246827   \n",
      "4  https://www.chess.com/game/live/52834844739   \n",
      "\n",
      "                                                 pgn time_control  \\\n",
      "0  [Event \"Live Chess\"]\\n[Site \"Chess.com\"]\\n[Dat...        900+5   \n",
      "1  [Event \"Live Chess\"]\\n[Site \"Chess.com\"]\\n[Dat...        900+5   \n",
      "2  [Event \"Live Chess\"]\\n[Site \"Chess.com\"]\\n[Dat...        900+5   \n",
      "3  [Event \"Live Chess\"]\\n[Site \"Chess.com\"]\\n[Dat...        900+5   \n",
      "4  [Event \"Live Chess\"]\\n[Site \"Chess.com\"]\\n[Dat...          600   \n",
      "\n",
      "              end_time  rated time_class  rules gm_username white_username  \\\n",
      "0  2022-01-01 08:39:26   True      rapid  chess       123lt          123lt   \n",
      "1  2022-01-02 06:39:16   True      rapid  chess       123lt     jinbojinbo   \n",
      "2  2022-01-02 07:37:33   True      rapid  chess       123lt          Juwen   \n",
      "3  2022-01-02 08:30:47   True      rapid  chess       123lt          123lt   \n",
      "4  2022-07-29 12:19:07   True      rapid  chess       123lt        stevis5   \n",
      "\n",
      "   white_rating white_result black_username  black_rating black_result  \n",
      "0          2506       agreed          Juwen          2515       agreed  \n",
      "1          2358   repetition          123lt          2498   repetition  \n",
      "2          2536          win          123lt          2480     resigned  \n",
      "3          2505          win        daika91          2586     resigned  \n",
      "4          2155   checkmated          123lt          2514          win  \n"
     ]
    }
   ],
   "source": [
    "# Initialize Ray\n",
    "ray.init(ignore_reinit_error=True)\n",
    "\n",
    "# Define a remote function to read the CSV using pandas\n",
    "@ray.remote\n",
    "def read_csv_with_pandas(file_path):\n",
    "    return pd.read_csv(file_path)\n",
    "\n",
    "# Call the remote function\n",
    "remote_df = read_csv_with_pandas.remote(csv_file_path)\n",
    "\n",
    "# Get the result\n",
    "df = ray.get(remote_df)\n",
    "\n",
    "# Display the first few rows of the DataFrame\n",
    "print(df.head())\n",
    "\n",
    "# Shutdown Ray\n",
    "ray.shutdown()"
   ]
  }
 ],
 "metadata": {
  "kernelspec": {
   "display_name": "Python 3 (ipykernel)",
   "language": "python",
   "name": "python3"
  },
  "language_info": {
   "codemirror_mode": {
    "name": "ipython",
    "version": 3
   },
   "file_extension": ".py",
   "mimetype": "text/x-python",
   "name": "python",
   "nbconvert_exporter": "python",
   "pygments_lexer": "ipython3",
   "version": "3.7.7"
  }
 },
 "nbformat": 4,
 "nbformat_minor": 4
}
